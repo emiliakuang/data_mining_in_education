{
 "cells": [
  {
   "cell_type": "code",
   "execution_count": 160,
   "id": "60f7606f-1187-4cd2-ac15-8d486b17c64a",
   "metadata": {},
   "outputs": [
    {
     "name": "stdout",
     "output_type": "stream",
     "text": [
      "Columns in merged_df: Index(['Unique-id_x', 'namea', 'OffTask', 'Avgright', 'Avgbug', 'Avghelp',\n",
      "       'Avgchoice', 'Avgstring', 'Avgnumber', 'Avgpoint', 'Avgpchange',\n",
      "       'Avgtime', 'AvgtimeSDnormed', 'Avgtimelast3SDnormed',\n",
      "       'Avgtimelast5SDnormed', 'Avgnotright', 'Avghowmanywrong-up',\n",
      "       'Avghelppct-up', 'Avgwrongpct-up', 'Avgtimeperact-up',\n",
      "       'AvgPrev3Count-up', 'AvgPrev5Count-up', 'Avgrecent8help',\n",
      "       'Avg recent5wrong', 'Avgmanywrong-up', 'AvgasymptoteA-up',\n",
      "       'AvgasymptoteB-up', 'Row', 'lesson', 'prod', 'cell', 'right', 'bug',\n",
      "       'help', 'choice', 'string', 'number', 'point', 'pknow-1', 'Pknow-2',\n",
      "       'pchange', 'time', 'timeSDnormed', 'timelast3SDnormed',\n",
      "       'timelast5SDnormed', 'notright', 'howmanywrong-up', 'helppct-up',\n",
      "       'wrongpct-up', 'timeperact-up', 'Prev3Count-up', 'Prev5Count-up',\n",
      "       'recent8help', ' recent5wrong', 'manywrong-up', 'asymptoteA-up',\n",
      "       'asymptoteB-up', 'Behaviour', 'Coder', 'Unique-id_y'],\n",
      "      dtype='object')\n"
     ]
    }
   ],
   "source": [
    "import pandas as pd\n",
    "import numpy as np\n",
    "import joblib\n",
    "from sklearn import tree\n",
    "from sklearn.tree import DecisionTreeClassifier\n",
    "from sklearn.metrics import cohen_kappa_score\n",
    "from sklearn.model_selection import train_test_split\n",
    "from sklearn.naive_bayes import GaussianNB\n",
    "import xgboost as xgb\n",
    "from xgboost import XGBClassifier\n",
    "from sklearn.preprocessing import LabelEncoder\n",
    "from sklearn.preprocessing import OneHotEncoder\n",
    "from sklearn.model_selection import GroupKFold \n",
    "from sklearn.feature_selection import SelectKBest, mutual_info_classif\n",
    "from sklearn.metrics import accuracy_score, precision_score, recall_score, f1_score, roc_auc_score, confusion_matrix\n",
    "from sklearn.impute import SimpleImputer\n",
    "\n",
    "# Load dataset\n",
    "df1 = pd.read_csv('/Users/emme/Desktop/ca1-dataset.csv')\n",
    "df2 = pd.read_csv('/Users/emme/Desktop/ca2-dataset.csv')\n",
    "\n",
    "# Map 'Behaviour' in df2 to 'OffTask' in df1\n",
    "mapping = {'Y': 'OFF TASK', 'N': 'ON TASK'}\n",
    "df2['Behaviour'] = df2['Behaviour'].map(mapping)\n",
    "\n",
    "# Merge df1 and df2 based on the 'namea' column\n",
    "merged_df = df1.merge(df2, on='namea', how='inner')\n",
    "print(\"Columns in merged_df:\", merged_df.columns)\n",
    "\n",
    "# Calculate the time since the last help request\n",
    "merged_df['TimeSinceLastHelp'] = merged_df.groupby('namea')['time'].diff()\n",
    "\n",
    "# Calculate the time since the last wrong attempt\n",
    "merged_df['TimeSinceLastWrong'] = merged_df.groupby('namea')['time'].diff().where(merged_df['notright'] == 1, 0)\n",
    "\n",
    "# Calculate the count of actions in the last 5 actions\n",
    "merged_df['Last5ActionsCount'] = merged_df.groupby('namea')['time'].rolling(window=5, min_periods=0).count().reset_index(0, drop=True)\n",
    "\n",
    "# Calculate the count of actions within the same sequence\n",
    "merged_df['ActionSequenceCount'] = merged_df.groupby('namea').cumcount() + 1\n",
    "\n",
    "# Calculate the average time per action\n",
    "merged_df['AvgTimePerAction'] = merged_df.groupby('namea')['time'].transform('mean')\n",
    "# Calculate the time since last help request ratio\n",
    "merged_df['TimeSinceLastHelpRatio'] = merged_df['TimeSinceLastHelp'] / merged_df['AvgTimePerAction']\n",
    "\n",
    "# Calculate the time since last wrong attempt ratio\n",
    "merged_df['TimeSinceLastWrongRatio'] = merged_df['TimeSinceLastWrong'] / merged_df['AvgTimePerAction']\n",
    "\n",
    "# Calculate the cumulative count of help requests\n",
    "merged_df['CumulativeHelpRequests'] = merged_df.groupby('namea')['howmanywrong-up'].cumsum()\n",
    "\n",
    "# Calculate the cumulative count of wrong attempts (excluding help)\n",
    "merged_df['CumulativeWrongAttempts'] = (merged_df['howmanywrong-up'] - merged_df['recent8help']).groupby(merged_df['namea']).cumsum()\n",
    "\n",
    "# Calculate the recent help requests ratio\n",
    "merged_df['RecentHelpRequestsRatio'] = merged_df['recent8help'] / merged_df.groupby('namea')['recent8help'].transform('sum')\n",
    "\n",
    "# Calculate the recent help requests ratio (keeping it since 'recent8help' is available)\n",
    "merged_df['RecentHelpRequestsRatio'] = merged_df['recent8help'] / merged_df.groupby('namea')['recent8help'].transform('sum')\n",
    "# Calculate the change in knowledge estimate\n",
    "merged_df['KnowledgeChange'] = merged_df['Pknow-2'] - merged_df['pknow-1']\n",
    "\n",
    "# Calculate the cumulative change in knowledge estimate\n",
    "merged_df['CumulativeKnowledgeChange'] = merged_df.groupby('namea')['KnowledgeChange'].cumsum()\n",
    "\n",
    "# Calculate the average time gap between consecutive actions\n",
    "merged_df['AvgTimeGapBetweenActions'] = merged_df.groupby('namea')['time'].diff().fillna(0).mean()\n",
    "\n",
    "# Calculate the cumulative count of help requests\n",
    "merged_df['CumulativeHelpRequests'] = merged_df.groupby('namea')['howmanywrong-up'].cumsum()\n",
    "\n",
    "# group by namea\n",
    "group_dict = {}\n",
    "groups = np.array([])\n",
    "\n",
    "for index, row in merged_df.iterrows():\n",
    "    name = row['namea']\n",
    "    if name not in group_dict:\n",
    "        group_dict[name] = index\n",
    "    groups = np.append(groups, group_dict[name])\n",
    "     \n",
    "# Drop rows with 'ON TASK CONV', '$', and '?' under the 'Behaviour' column\n",
    "merged_df = merged_df[~merged_df['Behaviour'].isin(['ON TASK CONV', '$', '?'])]\n",
    "\n",
    "# set up X abd y to predict 'OffTask' \n",
    "X = merged_df.drop(columns=['OffTask']+['namea']+['Unique-id_x']+ ['Unique-id_y']+['lesson']+['prod']+['cell']+['Coder'], axis=1)  \n",
    "y = merged_df['OffTask'] \n",
    "y = y.map({'N': 0, 'Y': 1})\n",
    "\n",
    "# Initialize a list to store kappa scores for each fold\n",
    "kappa_scores = list()"
   ]
  },
  {
   "cell_type": "code",
   "execution_count": 161,
   "id": "a36f06e2-5a0a-48ea-b6c0-de1399c02628",
   "metadata": {},
   "outputs": [
    {
     "name": "stdout",
     "output_type": "stream",
     "text": [
      "Mean Kappa Score: 0.66161838513692\n"
     ]
    }
   ],
   "source": [
    "# Handle missing values in X using SimpleImputer (you can adjust the strategy as needed)\n",
    "imputer = SimpleImputer(strategy='mean')\n",
    "X = imputer.fit_transform(X)\n",
    "\n",
    "# Initialize a list to store kappa scores for each fold\n",
    "kappa_scores = []\n",
    "\n",
    "# Perform 10-fold student-level batch cross-validation\n",
    "gkf = GroupKFold(n_splits=10)\n",
    "for train_index, test_index in gkf.split(X_selected, y, groups=groups):\n",
    "    X_train = X_selected[train_index]\n",
    "    X_test = X_selected[test_index]\n",
    "    y_train = y[train_index]\n",
    "    y_test = y[test_index]  \n",
    "    \n",
    "# Perform feature selection using SelectKBest\n",
    "k = 10\n",
    "selector = SelectKBest(score_func=mutual_info_classif, k=k)\n",
    "X_train_selected = selector.fit_transform(X_train, y_train)\n",
    "X_test_selected = selector.transform(X_test)\n",
    "    \n",
    "# Create and fit the classifier to training data\n",
    "model = XGBClassifier()\n",
    "model.fit(X_train_selected, y_train)\n",
    "\n",
    "# Make predictions on test data\n",
    "y_pred = model.predict(X_test_selected)\n",
    "\n",
    "# Calculate kappa score and append to the list\n",
    "kappa = cohen_kappa_score(y_test, y_pred)\n",
    "kappa_scores.append(kappa)\n",
    "\n",
    "# Calculate the mean kappa score across all folds\n",
    "mean_kappa = np.mean(kappa_scores)\n",
    "print(\"Mean Kappa Score:\", mean_kappa)"
   ]
  },
  {
   "cell_type": "code",
   "execution_count": 162,
   "id": "3b8cfd47-94e1-4c23-bb37-de365b8214a5",
   "metadata": {},
   "outputs": [
    {
     "name": "stdout",
     "output_type": "stream",
     "text": [
      "Accuracy: 0.97\n",
      "Recall: 0.51\n",
      "F1-Score: 0.68\n",
      "ROC AUC: 0.76\n"
     ]
    }
   ],
   "source": [
    "# Calculate other scores\n",
    "accuracy = accuracy_score(y_test, y_pred)\n",
    "recall = recall_score(y_test, y_pred, pos_label=1)\n",
    "f1 = f1_score(y_test, y_pred, pos_label=1)\n",
    "roc_auc = roc_auc_score(y_test, y_pred)\n",
    "\n",
    "# Print the computed metrics\n",
    "print(f\"Accuracy: {accuracy:.2f}\")\n",
    "print(f\"Recall: {recall:.2f}\")\n",
    "print(f\"F1-Score: {f1:.2f}\")\n",
    "print(f\"ROC AUC: {roc_auc:.2f}\")"
   ]
  },
  {
   "cell_type": "code",
   "execution_count": 163,
   "id": "e9616629-28ee-43d6-b5b6-1f62e0649ee8",
   "metadata": {},
   "outputs": [
    {
     "name": "stdout",
     "output_type": "stream",
     "text": [
      "Model saved as 'trained_model.joblib'\n"
     ]
    }
   ],
   "source": [
    "## Save the trained model to a file using joblib\n",
    "model_filename = 'trained_model.joblib'\n",
    "joblib.dump(model, model_filename)\n",
    "\n",
    "print(f\"Model saved as '{model_filename}'\")"
   ]
  },
  {
   "cell_type": "code",
   "execution_count": 164,
   "id": "9e1acd03-c9a5-4af7-8d69-9f3b7e1e22f4",
   "metadata": {},
   "outputs": [
    {
     "data": {
      "image/png": "[encoded data removed]",
      "text/plain": [
       "<Figure size 800x600 with 1 Axes>"
      ]
     },
     "metadata": {},
     "output_type": "display_data"
    }
   ],
   "source": [
    "import matplotlib.pyplot as plt\n",
    "from sklearn.metrics import roc_auc_score\n",
    "\n",
    "# Predict the probabilities of the positive class (class 1)\n",
    "y_pred = model.predict_proba(X_test_selected)[:, 1]\n",
    "\n",
    "# Compute the ROC curve\n",
    "fpr, tpr, thresholds = roc_curve(y_test, y_pred)\n",
    "\n",
    "# Calculate the AUC \n",
    "roc_auc = roc_auc_score(y_test, y_pred)\n",
    "\n",
    "## Plot the ROC curve\n",
    "plt.figure(figsize=(8, 6))\n",
    "plt.plot(fpr, tpr, color='blue', lw=2, label='ROC curve (AUC = {:.2f})'.format(roc_auc))\n",
    "plt.plot([0, 1], [0, 1], color='gray', linestyle='--')\n",
    "plt.xlim([0.0, 1.0])\n",
    "plt.ylim([0.0, 1.05])\n",
    "plt.xlabel('FPR')\n",
    "plt.ylabel('TPR')\n",
    "plt.title('ROC Curve')\n",
    "plt.legend(loc='lower right')\n",
    "plt.show()"
   ]
  },
  {
   "cell_type": "code",
   "execution_count": null,
   "id": "3c099edc-4ee1-4645-97ee-f6f0107dee56",
   "metadata": {},
   "outputs": [],
   "source": []
  }
 ],
 "metadata": {
  "kernelspec": {
   "display_name": "Python 3 (ipykernel)",
   "language": "python",
   "name": "python3"
  },
  "language_info": {
   "codemirror_mode": {
    "name": "ipython",
    "version": 3
   },
   "file_extension": ".py",
   "mimetype": "text/x-python",
   "name": "python",
   "nbconvert_exporter": "python",
   "pygments_lexer": "ipython3",
   "version": "3.10.9"
  }
 },
 "nbformat": 4,
 "nbformat_minor": 5
}
